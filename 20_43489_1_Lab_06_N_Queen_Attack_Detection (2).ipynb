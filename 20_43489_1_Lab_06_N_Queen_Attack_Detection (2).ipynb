{
  "cells": [
    {
      "cell_type": "markdown",
      "metadata": {
        "id": "i9cjHABdo20A"
      },
      "source": [
        "# N Queen Attack Detection"
      ]
    },
    {
      "cell_type": "code",
      "source": [
        "import matplotlib.pyplot as plt\n",
        "\n",
        "def drawBoard(P):\n",
        "  n = len(P)\n",
        "  # Create a figure and axes\n",
        "  fig, ax = plt.subplots()\n",
        "\n",
        "  # Set axis limits and aspect ratio\n",
        "  ax.set_xlim(0, n)\n",
        "  ax.set_ylim(0, n)\n",
        "  ax.set_aspect('equal')\n",
        "\n",
        "  # Turn off axis ticks and labels\n",
        "  ax.set_xticks([])\n",
        "  ax.set_yticks([])\n",
        "\n",
        "  # Draw the board grid\n",
        "  for i in range(n + 1):\n",
        "      ax.plot([0, n], [i, i], 'k-', linewidth=2) # Horizontal lines\n",
        "      ax.plot([i, i], [0, n], 'k-', linewidth=2) # Vertical lines\n",
        "\n",
        "  # Place queens\n",
        "  for i in range(n):\n",
        "    row, col = P[i]\n",
        "    # Adjust for visual centering\n",
        "    ax.text(col - 0.5 , n - row + 0.5, 'Q'+str(i + 1), ha='center', va='center', fontsize=12, color='red', weight='bold')\n",
        "\n",
        "  # Show the plot\n",
        "  plt.show()"
      ],
      "metadata": {
        "id": "xtRLJ4fTw5Kg"
      },
      "execution_count": 1,
      "outputs": []
    },
    {
      "cell_type": "code",
      "source": [
        "import random\n",
        "def generate_positions(n):\n",
        "    numbers = random.sample(range(n**2), n)\n",
        "    print(numbers)\n",
        "    P = []\n",
        "    for num in numbers:\n",
        "        row = num // n + 1\n",
        "        col = num % n + 1\n",
        "        P.append((row,col))\n",
        "    return P\n",
        "\n",
        "pos = generate_positions(4)\n",
        "print(pos)\n",
        "drawBoard(pos)"
      ],
      "metadata": {
        "colab": {
          "base_uri": "https://localhost:8080/",
          "height": 440
        },
        "id": "4nAKG_sr78Va",
        "outputId": "1bdd9b5e-e1b5-47e2-84ca-83e620910816"
      },
      "execution_count": 2,
      "outputs": [
        {
          "output_type": "stream",
          "name": "stdout",
          "text": [
            "[12, 4, 1, 6]\n",
            "[(4, 1), (2, 1), (1, 2), (2, 3)]\n"
          ]
        },
        {
          "output_type": "display_data",
          "data": {
            "text/plain": [
              "<Figure size 640x480 with 1 Axes>"
            ],
            "image/png": "[encoded data removed]"
          },
          "metadata": {}
        }
      ]
    },
    {
      "cell_type": "code",
      "execution_count": 3,
      "metadata": {
        "colab": {
          "base_uri": "https://localhost:8080/"
        },
        "id": "IEMPCDhEo20N",
        "outputId": "1df9d343-2aa7-48de-8a3a-dd66c183a1ed"
      },
      "outputs": [
        {
          "output_type": "stream",
          "name": "stdout",
          "text": [
            "row attack: 2 (2, 1), 4 (2, 3)\n"
          ]
        },
        {
          "output_type": "execute_result",
          "data": {
            "text/plain": [
              "1"
            ]
          },
          "metadata": {},
          "execution_count": 3
        }
      ],
      "source": [
        "# row attack\n",
        "def rowAttacK(P):\n",
        "  n = len(P)\n",
        "  count = 0\n",
        "  for i in range(n):\n",
        "    for j in range(i+1,n):\n",
        "      if P[i][0] == P[j][0]:\n",
        "        print('row attack:', end = \" \" )\n",
        "        print(i+1,P[i], end = \", \")\n",
        "        print(j+1,P[j])\n",
        "        count = count + 1\n",
        "  return count\n",
        "\n",
        "rowAttacK(pos)"
      ]
    },
    {
      "cell_type": "code",
      "source": [
        "abs(-2)"
      ],
      "metadata": {
        "colab": {
          "base_uri": "https://localhost:8080/"
        },
        "id": "-jDyBTh8RFsX",
        "outputId": "ebf1779d-fa8e-41af-e128-2f2fc61ca914"
      },
      "execution_count": 4,
      "outputs": [
        {
          "output_type": "execute_result",
          "data": {
            "text/plain": [
              "2"
            ]
          },
          "metadata": {},
          "execution_count": 4
        }
      ]
    },
    {
      "cell_type": "code",
      "execution_count": 5,
      "metadata": {
        "id": "KLBRaUNOo20O"
      },
      "outputs": [],
      "source": [
        "#column attack\n",
        "def columnAttack(P):\n",
        "    n = len(P)\n",
        "    count = 0\n",
        "    for i in range(n):\n",
        "        for j in range(i + 1, n):\n",
        "            # Check if queens share the same column\n",
        "            if P[i][1] == P[j][1]:\n",
        "                print(f'Column attack: Queen {i + 1} at {P[i]} and Queen {j + 1} at {P[j]}')\n",
        "                count += 1\n",
        "    return count\n",
        "\n",
        "    columnAttack(pos)"
      ]
    },
    {
      "cell_type": "code",
      "execution_count": 6,
      "metadata": {
        "id": "Bmw-Teqio20P",
        "outputId": "f00441e7-c1d5-49c5-d038-6ec1c8665ded",
        "colab": {
          "base_uri": "https://localhost:8080/"
        }
      },
      "outputs": [
        {
          "output_type": "stream",
          "name": "stdout",
          "text": [
            "Diagonal attack: Queen 1 at (4, 1) and Queen 4 at (2, 3)\n",
            "Diagonal attack: Queen 2 at (2, 1) and Queen 3 at (1, 2)\n",
            "Diagonal attack: Queen 3 at (1, 2) and Queen 4 at (2, 3)\n"
          ]
        },
        {
          "output_type": "execute_result",
          "data": {
            "text/plain": [
              "3"
            ]
          },
          "metadata": {},
          "execution_count": 6
        }
      ],
      "source": [
        "# diagonal atack\n",
        "def diagonalAttack(P):\n",
        "    n = len(P)\n",
        "    count = 0\n",
        "    for i in range(n):\n",
        "        for j in range(i + 1, n):\n",
        "            # Check if queens share a diagonal\n",
        "            if abs(P[i][0] - P[j][0]) == abs(P[i][1] - P[j][1]):\n",
        "                print(f'Diagonal attack: Queen {i + 1} at {P[i]} and Queen {j + 1} at {P[j]}')\n",
        "                count += 1\n",
        "    return count\n",
        "\n",
        "# Example usage\n",
        "diagonalAttack(pos)"
      ]
    },
    {
      "cell_type": "code",
      "execution_count": 7,
      "metadata": {
        "id": "1hQCBWSoo20Q",
        "outputId": "3dbb4125-0988-44b5-96f5-972d3c20127c",
        "colab": {
          "base_uri": "https://localhost:8080/"
        }
      },
      "outputs": [
        {
          "output_type": "stream",
          "name": "stdout",
          "text": [
            "False\n"
          ]
        }
      ],
      "source": [
        "# implement a method to print a state is valid or not\n",
        "def isValid(P):\n",
        "    n = len(P)\n",
        "\n",
        "    # Check for row, column, and diagonal attacks\n",
        "    for i in range(n):\n",
        "        for j in range(i + 1, n):\n",
        "            # Check for row attack\n",
        "            if P[i][0] == P[j][0]:\n",
        "                return False\n",
        "\n",
        "            # Check for column attack\n",
        "            if P[i][1] == P[j][1]:\n",
        "                return False\n",
        "\n",
        "            # Check for diagonal attack\n",
        "            if abs(P[i][0] - P[j][0]) == abs(P[i][1] - P[j][1]):\n",
        "                return False\n",
        "\n",
        "    return True\n",
        "\n",
        "# Example usage\n",
        "pos = [(1, 3), (3, 3), (1, 1), (4, 2)]  # A list of queen positions\n",
        "print(isValid(pos))  # Output: False (because of row and column conflicts)\n"
      ]
    },
    {
      "cell_type": "code",
      "source": [
        "# call isValid untill you get valid solution\n",
        "import random\n",
        "\n",
        "def generateRandomPositions(n):\n",
        "    # Generate random positions for n queens where each queen is in a different row\n",
        "    positions = []\n",
        "    for row in range(1, n + 1):\n",
        "        col = random.randint(1, n)  # Randomly place in a column from 1 to n\n",
        "        positions.append((row, col))\n",
        "    return positions\n",
        "\n",
        "def findValidSolution(n):\n",
        "    while True:\n",
        "        pos = generateRandomPositions(n)  # Generate random queen positions\n",
        "        if isValid(pos):\n",
        "            return pos  # Return the valid configuration\n",
        "\n",
        "# Example usage: Try to find a valid solution for 4 queens\n",
        "n = 4\n",
        "valid_pos = findValidSolution(n)\n",
        "print(\"Valid Solution:\", valid_pos)\n"
      ],
      "metadata": {
        "id": "Mzr-Rt9kR9Xn",
        "outputId": "15c89b5e-8dc4-4c6a-ff7e-57aeee511e0f",
        "colab": {
          "base_uri": "https://localhost:8080/"
        }
      },
      "execution_count": 8,
      "outputs": [
        {
          "output_type": "stream",
          "name": "stdout",
          "text": [
            "Valid Solution: [(1, 3), (2, 1), (3, 4), (4, 2)]\n"
          ]
        }
      ]
    }
  ],
  "metadata": {
    "kernelspec": {
      "display_name": "Python 3",
      "language": "python",
      "name": "python3"
    },
    "language_info": {
      "codemirror_mode": {
        "name": "ipython",
        "version": 3
      },
      "file_extension": ".py",
      "mimetype": "text/x-python",
      "name": "python",
      "nbconvert_exporter": "python",
      "pygments_lexer": "ipython3",
      "version": "3.8.5"
    },
    "colab": {
      "provenance": []
    }
  },
  "nbformat": 4,
  "nbformat_minor": 0
}
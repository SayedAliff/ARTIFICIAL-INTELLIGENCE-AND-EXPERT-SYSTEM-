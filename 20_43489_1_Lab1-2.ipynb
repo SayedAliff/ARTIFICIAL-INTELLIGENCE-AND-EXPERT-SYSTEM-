{
  "cells": [
    {
      "cell_type": "markdown",
      "metadata": {
        "id": "tUakohw5RzmN"
      },
      "source": [
        "# About this notebook\n",
        "<p style=\"text-align: justify\"> Here, you will learn the basic coding and data structures including numbers, strings, list, dictionaries and more. Some codes already done for demonstration. Some other codes, you will do as excercises.</p>\n",
        "\n",
        "## Submission\n",
        "<p style=\"text-align: justify\">After completing the practice codes and exercises, download the notebook (.pynb file) and submit the notebook  to MS Teams inbox in the class period</p>\n",
        "<p> 1.<b> You must submit your own code</b>. If similarity found negative marking will be given.</p>\n",
        "<p> 2. Modify the file name writing ID at the beigining of the file name. </p><p><b>Example: 20-45961-3 Lab 01.ipynb</b></p>\n",
        "<p> 3. Other file format (except .pynb) or link will not be accepted.</p>"
      ]
    },
    {
      "cell_type": "markdown",
      "metadata": {
        "id": "7jKOIUPVzjYM"
      },
      "source": [
        "# **INSTRUCTION**"
      ]
    },
    {
      "cell_type": "markdown",
      "metadata": {
        "id": "iQlhsnAxRzmQ"
      },
      "source": [
        "# Number"
      ]
    },
    {
      "cell_type": "code",
      "execution_count": 1,
      "metadata": {
        "colab": {
          "base_uri": "https://localhost:8080/"
        },
        "id": "EgjVFy62RzmR",
        "outputId": "d3e1b24b-c495-4e86-b874-34ed1bbf0847"
      },
      "outputs": [
        {
          "output_type": "execute_result",
          "data": {
            "text/plain": [
              "43101"
            ]
          },
          "metadata": {},
          "execution_count": 1
        }
      ],
      "source": [
        "# basic numeric operations\n",
        "45999 - 2898\n"
      ]
    },
    {
      "cell_type": "code",
      "execution_count": 2,
      "metadata": {
        "colab": {
          "base_uri": "https://localhost:8080/"
        },
        "id": "F0FimSxMRzmS",
        "outputId": "9c20ab2b-169f-4557-dbc7-670b94a874da"
      },
      "outputs": [
        {
          "output_type": "execute_result",
          "data": {
            "text/plain": [
              "18.96747967479675"
            ]
          },
          "metadata": {},
          "execution_count": 2
        }
      ],
      "source": [
        "# classic division returns a float\n",
        "2333/123"
      ]
    },
    {
      "cell_type": "code",
      "execution_count": 3,
      "metadata": {
        "colab": {
          "base_uri": "https://localhost:8080/"
        },
        "id": "CjDuJ9zqRzmS",
        "outputId": "20281f94-2407-488b-c3f3-ebf76a45dde4"
      },
      "outputs": [
        {
          "output_type": "execute_result",
          "data": {
            "text/plain": [
              "30"
            ]
          },
          "metadata": {},
          "execution_count": 3
        }
      ],
      "source": [
        "# floor division discards the fractional part\n",
        "2999 // 99"
      ]
    },
    {
      "cell_type": "code",
      "execution_count": 4,
      "metadata": {
        "colab": {
          "base_uri": "https://localhost:8080/"
        },
        "id": "q8eSw206RzmT",
        "outputId": "62f1f369-a8c8-42e9-a8f7-df3d0988cd6b"
      },
      "outputs": [
        {
          "output_type": "stream",
          "name": "stdout",
          "text": [
            "57.517699115044245\n"
          ]
        }
      ],
      "source": [
        "# assigin value to variable for later use\n",
        "a = 12999 / 226\n",
        "print(a)"
      ]
    },
    {
      "cell_type": "code",
      "execution_count": 5,
      "metadata": {
        "colab": {
          "base_uri": "https://localhost:8080/"
        },
        "id": "NiPvZZDiRzmT",
        "outputId": "3084f1bf-f1ae-4965-9a03-034570b0ffbe"
      },
      "outputs": [
        {
          "output_type": "stream",
          "name": "stdout",
          "text": [
            "5694.2522123893805\n"
          ]
        }
      ],
      "source": [
        "# use the variable a for further operations\n",
        "b = a*99\n",
        "print(b)"
      ]
    },
    {
      "cell_type": "code",
      "execution_count": 6,
      "metadata": {
        "colab": {
          "base_uri": "https://localhost:8080/"
        },
        "id": "DxWMtt3-RzmU",
        "outputId": "a1373b74-542a-4351-ab29-12dacd364d34"
      },
      "outputs": [
        {
          "output_type": "stream",
          "name": "stdout",
          "text": [
            "1024\n"
          ]
        }
      ],
      "source": [
        "a=2 ** 10\n",
        "print(a)"
      ]
    },
    {
      "cell_type": "markdown",
      "metadata": {
        "id": "dh1UZFy3RzmU"
      },
      "source": [
        "<b>Exercise 1:</b> Assign values to some variables and perform different operations. Also print the results."
      ]
    },
    {
      "cell_type": "code",
      "execution_count": 7,
      "metadata": {
        "colab": {
          "base_uri": "https://localhost:8080/"
        },
        "id": "M7JxL3K4RzmV",
        "outputId": "3bf42238-d1c8-47ed-bbeb-3f2ac139d4c6"
      },
      "outputs": [
        {
          "output_type": "stream",
          "name": "stdout",
          "text": [
            "11\n",
            "392\n",
            "3\n",
            "2\n",
            "1.75\n"
          ]
        }
      ],
      "source": [
        "a=4\n",
        "b=7\n",
        "c=a+b\n",
        "print(c)\n",
        "print(a*98)\n",
        "print(b-a)\n",
        "print(c // 4)\n",
        "print(b/a)"
      ]
    },
    {
      "cell_type": "markdown",
      "metadata": {
        "id": "fdbNBNHLRzmV"
      },
      "source": [
        "# Import Module\n",
        "<p style=\"text-align: justify\"> Python code in one module gains access to the code in another module by the process of importing it. The import statement is the most common way of invoking the import machinery.</p>\n",
        "\n",
        "<p style=\"text-align: justify\">Python’s standard library is very extensive, offering a wide range of facilities. The library contains built-in modules (written in C) that provide access to system functionality such as file I/O that would otherwise be inaccessible to Python programmers, as well as modules written in Python that provide standardized solutions for many problems that occur in everyday programming. Some of these modules are explicitly designed to encourage and enhance the portability of Python programs by abstracting away platform-specifics into platform-neutral APIs.</p>\n",
        "\n",
        "<b> Example:</b> Python has a built-in module that you can use for mathematical tasks. The math module has a set of methods and constants. The detail documentation can be found [here](https://docs.python.org/3/library/math.html)."
      ]
    },
    {
      "cell_type": "code",
      "execution_count": 8,
      "metadata": {
        "colab": {
          "base_uri": "https://localhost:8080/"
        },
        "id": "W_qIawhDRzmV",
        "outputId": "8a8f1678-1e4d-4a4d-c7e4-f301a48d1e0c"
      },
      "outputs": [
        {
          "output_type": "stream",
          "name": "stdout",
          "text": [
            "6.283185307179586\n",
            "3.141592653589793\n"
          ]
        }
      ],
      "source": [
        "# importing the math module\n",
        "import math\n",
        "# accessing the constant π from math\n",
        "print(math.tau)\n",
        "print(math.pi)"
      ]
    },
    {
      "cell_type": "code",
      "execution_count": 9,
      "metadata": {
        "colab": {
          "base_uri": "https://localhost:8080/"
        },
        "id": "Q8HYTDiKRzmW",
        "outputId": "2f0ea6d8-5415-4be4-b6ee-c10261b82960"
      },
      "outputs": [
        {
          "output_type": "execute_result",
          "data": {
            "text/plain": [
              "8.12403840463596"
            ]
          },
          "metadata": {},
          "execution_count": 9
        }
      ],
      "source": [
        "# using the method sqrt from math\n",
        "math.sqrt(66)"
      ]
    },
    {
      "cell_type": "code",
      "execution_count": 10,
      "metadata": {
        "colab": {
          "base_uri": "https://localhost:8080/"
        },
        "id": "ZbVf51impuQM",
        "outputId": "9815402e-c0d4-4800-d899-c203db9a468c"
      },
      "outputs": [
        {
          "output_type": "execute_result",
          "data": {
            "text/plain": [
              "120"
            ]
          },
          "metadata": {},
          "execution_count": 10
        }
      ],
      "source": [
        "math.factorial(5)"
      ]
    },
    {
      "cell_type": "code",
      "execution_count": 11,
      "metadata": {
        "colab": {
          "base_uri": "https://localhost:8080/"
        },
        "id": "JLWVp6Opp_R7",
        "outputId": "1a6216dc-430b-46b0-c279-41d94d090e35"
      },
      "outputs": [
        {
          "output_type": "execute_result",
          "data": {
            "text/plain": [
              "210"
            ]
          },
          "metadata": {},
          "execution_count": 11
        }
      ],
      "source": [
        "math.prod([2,3,5,7])"
      ]
    },
    {
      "cell_type": "markdown",
      "metadata": {
        "id": "SKFSp-jyRzmW"
      },
      "source": [
        "<b>Remember:</b> A cell always outputs the value of last variable. If you want to show other values use print. See the below cell for an example."
      ]
    },
    {
      "cell_type": "code",
      "execution_count": 12,
      "metadata": {
        "colab": {
          "base_uri": "https://localhost:8080/"
        },
        "id": "LplYC6VURzmW",
        "outputId": "de46fce9-c340-4fb6-fda2-d6fa6da45a32"
      },
      "outputs": [
        {
          "output_type": "stream",
          "name": "stdout",
          "text": [
            "3\n",
            "16\n",
            "0.5714285714285714\n"
          ]
        }
      ],
      "source": [
        "print(1+2)\n",
        "print(a*4)\n",
        "print(a/b)"
      ]
    },
    {
      "cell_type": "markdown",
      "metadata": {
        "id": "h5jaMCJgRzmX"
      },
      "source": [
        "<b>Exercise 2:</b> Import a module of your choice (other than math) and show some operations.<br>\n",
        "You can find one from all python module list [Click here](https://docs.python.org/3/py-modindex.html)."
      ]
    },
    {
      "cell_type": "code",
      "execution_count": 13,
      "metadata": {
        "colab": {
          "base_uri": "https://localhost:8080/"
        },
        "id": "qxLjqbuIRzmX",
        "outputId": "97f1ee94-e0c5-4a5e-a477-d82902076c99"
      },
      "outputs": [
        {
          "output_type": "stream",
          "name": "stdout",
          "text": [
            "(1.6197751905438615+0j)\n",
            "(1.6989700043360185+0j)\n",
            "(10.535653752852738+0j)\n",
            "7\n"
          ]
        }
      ],
      "source": [
        "import cmath\n",
        "a=6\n",
        "b=7\n",
        "print( cmath.tan(45))\n",
        "print(cmath.log10(50))\n",
        "print(cmath.sqrt(999 // 9))\n",
        "print(5+2)\n",
        "\n",
        "\n"
      ]
    },
    {
      "cell_type": "markdown",
      "metadata": {
        "id": "mzYaXui8RzmX"
      },
      "source": [
        "# Object types\n",
        "The basic object types are Numbers, Strings, Lists, Dictionaries, Tuples, Files and Other types (Sets, types, None, Booleans etc.)"
      ]
    },
    {
      "cell_type": "code",
      "execution_count": 15,
      "metadata": {
        "id": "m9Ph-hDmteoA"
      },
      "outputs": [],
      "source": [
        "a=10.5"
      ]
    },
    {
      "cell_type": "code",
      "execution_count": 16,
      "metadata": {
        "colab": {
          "base_uri": "https://localhost:8080/"
        },
        "id": "2RVFS2BPRzmX",
        "outputId": "0885c27a-fa0a-44ed-d3b7-d5d2b92d2c92"
      },
      "outputs": [
        {
          "output_type": "stream",
          "name": "stdout",
          "text": [
            "<class 'float'>\n",
            "<class 'int'>\n"
          ]
        }
      ],
      "source": [
        "# Checking the type of an object\n",
        "print(type(a))\n",
        "print(type(b))"
      ]
    },
    {
      "cell_type": "code",
      "execution_count": 17,
      "metadata": {
        "colab": {
          "base_uri": "https://localhost:8080/"
        },
        "id": "AjtCCy6zRzmY",
        "outputId": "3f9f02c5-23b6-44a9-864e-08eebf47a24b"
      },
      "outputs": [
        {
          "output_type": "stream",
          "name": "stdout",
          "text": [
            "<class 'int'>\n"
          ]
        }
      ],
      "source": [
        "c = 123\n",
        "print(type(c))"
      ]
    },
    {
      "cell_type": "code",
      "execution_count": 18,
      "metadata": {
        "colab": {
          "base_uri": "https://localhost:8080/"
        },
        "id": "VeL6GwnsRzmY",
        "outputId": "514dd341-b7cf-4294-c261-515d4d1c4c45"
      },
      "outputs": [
        {
          "output_type": "stream",
          "name": "stdout",
          "text": [
            "<class 'str'>\n"
          ]
        }
      ],
      "source": [
        "d = '123'\n",
        "print(type(d))"
      ]
    },
    {
      "cell_type": "code",
      "execution_count": 19,
      "metadata": {
        "colab": {
          "base_uri": "https://localhost:8080/"
        },
        "id": "9ok8T1AlRzmY",
        "outputId": "568be788-2bcf-4dc3-eac3-c91b4e284f19"
      },
      "outputs": [
        {
          "output_type": "stream",
          "name": "stdout",
          "text": [
            "<class 'float'>\n"
          ]
        }
      ],
      "source": [
        "c = 45.5\n",
        "print(type(c))"
      ]
    },
    {
      "cell_type": "code",
      "execution_count": 20,
      "metadata": {
        "colab": {
          "base_uri": "https://localhost:8080/"
        },
        "id": "oqxDaWmCRzmY",
        "outputId": "9ea001a7-8c0d-4de8-89bd-acdf2159d9ee"
      },
      "outputs": [
        {
          "output_type": "stream",
          "name": "stdout",
          "text": [
            "<class 'float'>\n"
          ]
        }
      ],
      "source": [
        "a = 7.999887\n",
        "d = 99+a\n",
        "print(type(d))"
      ]
    },
    {
      "cell_type": "markdown",
      "metadata": {
        "id": "_3kFNbooRzmZ"
      },
      "source": [
        "# String"
      ]
    },
    {
      "cell_type": "code",
      "execution_count": 21,
      "metadata": {
        "id": "4RDuLVuHRzmZ"
      },
      "outputs": [],
      "source": [
        "# assign value to a variable. The value can be qouted using '' or \"\"\n",
        "s = 'Bangladesh'"
      ]
    },
    {
      "cell_type": "code",
      "execution_count": 22,
      "metadata": {
        "colab": {
          "base_uri": "https://localhost:8080/",
          "height": 35
        },
        "id": "YgdInV-bRzmZ",
        "outputId": "0d6ab29c-f9a7-4ebc-c2dc-e4b6c7d12c09"
      },
      "outputs": [
        {
          "output_type": "execute_result",
          "data": {
            "text/plain": [
              "'B'"
            ],
            "application/vnd.google.colaboratory.intrinsic+json": {
              "type": "string"
            }
          },
          "metadata": {},
          "execution_count": 22
        }
      ],
      "source": [
        "# index\n",
        "s[0]"
      ]
    },
    {
      "cell_type": "code",
      "execution_count": 23,
      "metadata": {
        "colab": {
          "base_uri": "https://localhost:8080/",
          "height": 35
        },
        "id": "SApsog7_RzmZ",
        "outputId": "cf0fd109-7a88-4f32-a000-f0065311e804"
      },
      "outputs": [
        {
          "output_type": "execute_result",
          "data": {
            "text/plain": [
              "'f'"
            ],
            "application/vnd.google.colaboratory.intrinsic+json": {
              "type": "string"
            }
          },
          "metadata": {},
          "execution_count": 23
        }
      ],
      "source": [
        "# negative index\n",
        "s = 'alif'\n",
        "s[-1]"
      ]
    },
    {
      "cell_type": "markdown",
      "metadata": {
        "id": "0eT9wh_LRzma"
      },
      "source": [
        "When to use ' ' or \" \" ?"
      ]
    },
    {
      "cell_type": "markdown",
      "metadata": {
        "id": "WoJmaAijRzma"
      },
      "source": [
        "string operations with * and +"
      ]
    },
    {
      "cell_type": "code",
      "execution_count": 26,
      "metadata": {
        "colab": {
          "base_uri": "https://localhost:8080/",
          "height": 188
        },
        "id": "BfxzLD9HRzma",
        "outputId": "a9935476-57f1-4936-c8d6-da2001f7ec74"
      },
      "outputs": [
        {
          "output_type": "execute_result",
          "data": {
            "text/plain": [
              "'alif alif alif alif alif alif alif alif alif alif alif alif alif alif alif alif alif alif alif alif alif alif alif alif alif alif alif alif alif alif alif alif alif alif alif alif alif alif alif alif alif alif alif alif alif alif alif alif alif alif alif alif alif alif alif alif alif alif alif alif alif alif alif alif alif alif alif alif alif alif alif alif alif alif alif alif alif alif alif alif alif alif alif alif alif alif alif alif alif alif alif alif alif alif alif alif alif alif alif alif alif alif alif alif alif alif alif alif alif alif alif alif alif alif alif alif alif alif alif alif alif alif alif alif alif alif alif alif alif alif alif alif alif alif alif alif alif alif alif alif alif alif alif alif alif alif alif alif alif alif alif alif alif alif alif alif alif alif alif alif alif alif alif alif alif alif alif alif alif alif alif alif alif alif alif alif alif alif alif alif alif alif alif alif alif alif alif alif alif alif alif alif alif alif alif alif alif alif alif alif alif alif alif alif alif alif alif alif alif alif alif alif alif alif alif alif alif alif alif alif alif alif alif alif alif alif alif alif alif alif alif alif alif alif alif alif alif alif alif alif alif alif alif alif alif alif alif alif alif alif alif alif alif alif alif alif alif alif alif alif alif alif alif alif alif alif alif alif alif alif alif alif alif alif alif alif alif alif alif alif alif alif alif alif alif alif alif alif alif alif alif alif alif alif alif alif alif alif alif alif alif alif alif alif alif alif alif alif alif alif alif alif alif alif alif alif alif alif alif alif alif alif alif alif alif alif alif alif alif alif alif alif alif alif alif alif alif alif alif alif alif alif alif alif alif alif alif alif alif alif alif alif alif alif alif alif alif alif alif alif alif alif alif alif alif alif alif alif alif alif alif alif alif alif alif alif alif alif alif alif alif alif alif alif alif alif alif alif alif alif alif alif alif alif alif alif alif alif alif alif alif alif alif alif alif alif alif alif alif alif alif alif alif alif alif alif alif alif alif alif alif alif alif alif alif alif alif alif alif alif alif alif alif alif alif alif alif alif alif alif alif alif alif alif alif alif alif alif alif alif alif alif alif alif alif alif alif alif alif alif alif alif alif alif alif alif alif alif alif alif alif alif alif alif alif alif alif alif alif alif alif alif alif alif alif alif alif alif alif alif alif alif alif alif alif alif alif alif alif alif alif alif alif alif alif alif alif alif alif alif alif alif alif alif alif alif alif alif alif alif alif alif alif alif alif alif alif alif alif alif alif alif alif alif alif alif alif alif alif alif alif alif alif alif alif alif alif alif alif alif alif alif alif alif alif alif alif alif alif alif alif alif alif alif alif alif alif alif alif alif alif alif alif alif alif alif alif alif alif alif alif alif alif alif alif alif alif alif alif alif alif alif alif alif alif alif alif alif alif alif alif alif alif alif alif alif alif alif alif alif alif alif alif alif alif alif alif alif alif alif alif alif alif alif alif alif alif alif alif alif alif alif alif alif alif alif alif alif alif alif alif alif alif alif alif alif alif alif alif alif alif alif alif alif alif alif alif alif alif alif alif alif alif alif alif alif alif alif alif alif alif alif alif alif alif alif alif alif alif alif alif alif alif alif alif alif alif alif alif alif alif alif alif alif alif alif alif alif alif alif alif alif alif alif alif alif alif alif alif alif alif alif alif alif alif alif alif alif alif alif alif alif alif alif alif alif alif alif alif alif alif alif alif alif alif alif alif alif alif alif alif alif alif alif alif alif alif alif alif alif alif alif alif alif alif alif alif alif alif alif alif alif alif alif alif alif alif alif alif alif alif alif alif alif alif alif alif alif alif alif alif alif alif alif alif alif alif alif alif alif alif alif alif alif alif alif alif alif alif alif alif alif alif alif alif alif alif alif alif alif alif alif alif alif alif alif alif alif alif alif alif alif alif alif alif alif alif alif alif alif alif alif alif alif alif alif alif alif alif alif alif alif alif alif alif alif alif alif alif alif alif alif alif alif alif alif alif alif alif alif alif alif alif alif alif alif alif alif alif alif alif alif alif alif alif alif alif alif alif alif alif alif alif alif alif alif alif alif alif alif alif alif alif alif alif alif alif alif alif alif alif alif alif alif alif alif alif alif alif alif alif alif alif alif alif alif alif alif alif alif alif alif alif alif alif alif alif alif alif alif alif alif alif alif alif alif alif alif alif alif alif alif alif alif alif alif alif alif alif alif alif alif alif alif alif alif alif alif alif alif alif alif alif alif alif alif alif alif alif alif alif alif alif alif alif alif alif alif alif alif alif alif alif alif alif alif alif alif alif alif alif alif alif alif alif alif alif alif alif '"
            ],
            "application/vnd.google.colaboratory.intrinsic+json": {
              "type": "string"
            }
          },
          "metadata": {},
          "execution_count": 26
        }
      ],
      "source": [
        "'alif ' * 999"
      ]
    },
    {
      "cell_type": "code",
      "execution_count": 25,
      "metadata": {
        "colab": {
          "base_uri": "https://localhost:8080/",
          "height": 35
        },
        "id": "BNSbM0HNRzma",
        "outputId": "cbbbe13f-e257-4b17-abf9-c0963008e8cd"
      },
      "outputs": [
        {
          "output_type": "execute_result",
          "data": {
            "text/plain": [
              "'Hello Hello Hello '"
            ],
            "application/vnd.google.colaboratory.intrinsic+json": {
              "type": "string"
            }
          },
          "metadata": {},
          "execution_count": 25
        }
      ],
      "source": [
        "name='Hello '\n",
        "name * 3"
      ]
    },
    {
      "cell_type": "code",
      "execution_count": 27,
      "metadata": {
        "colab": {
          "base_uri": "https://localhost:8080/",
          "height": 35
        },
        "id": "v6WtfbxURzma",
        "outputId": "37a49c01-f2e8-4de3-a079-164da7ead776"
      },
      "outputs": [
        {
          "output_type": "execute_result",
          "data": {
            "text/plain": [
              "'Sayed Nafisur Rahman Alif '"
            ],
            "application/vnd.google.colaboratory.intrinsic+json": {
              "type": "string"
            }
          },
          "metadata": {},
          "execution_count": 27
        }
      ],
      "source": [
        "'Sayed' + ' Nafisur' + ' Rahman'+ ' Alif '"
      ]
    },
    {
      "cell_type": "code",
      "execution_count": 28,
      "metadata": {
        "colab": {
          "base_uri": "https://localhost:8080/",
          "height": 35
        },
        "id": "itSLVn7SRzmb",
        "outputId": "a49d9d61-8ef9-4ec0-9d4b-4414fef64e68"
      },
      "outputs": [
        {
          "output_type": "execute_result",
          "data": {
            "text/plain": [
              "'Hello  Alif'"
            ],
            "application/vnd.google.colaboratory.intrinsic+json": {
              "type": "string"
            }
          },
          "metadata": {},
          "execution_count": 28
        }
      ],
      "source": [
        "name + ' Alif'"
      ]
    },
    {
      "cell_type": "code",
      "execution_count": 29,
      "metadata": {
        "colab": {
          "base_uri": "https://localhost:8080/"
        },
        "id": "AaNhu8QMRzmb",
        "outputId": "d81697f5-00bc-433b-e490-bc32261bade0"
      },
      "outputs": [
        {
          "output_type": "stream",
          "name": "stdout",
          "text": [
            "af U\n",
            "af Uddin\n",
            "Ashr\n",
            "din\n",
            "srfU\n",
            "niddU farhsA\n"
          ]
        }
      ],
      "source": [
        "# slicing\n",
        "name = 'Ashraf Uddin'\n",
        "print(name[4:8])\n",
        "print(name[4:])\n",
        "print(name[:4])\n",
        "print(name[-3:])\n",
        "print(name[1:8:2])\n",
        "print(name[ -1: :-1])"
      ]
    },
    {
      "cell_type": "code",
      "execution_count": 30,
      "metadata": {
        "colab": {
          "base_uri": "https://localhost:8080/",
          "height": 35
        },
        "id": "k9ICF4NARzmb",
        "outputId": "a25d05af-c764-44a4-c711-b1dd757caae4"
      },
      "outputs": [
        {
          "output_type": "execute_result",
          "data": {
            "text/plain": [
              "'af Udd'"
            ],
            "application/vnd.google.colaboratory.intrinsic+json": {
              "type": "string"
            }
          },
          "metadata": {},
          "execution_count": 30
        }
      ],
      "source": [
        "name[-8:-2]"
      ]
    },
    {
      "cell_type": "code",
      "execution_count": 31,
      "metadata": {
        "id": "J6Q9RXwSRzmb"
      },
      "outputs": [],
      "source": [
        "#dir(name)"
      ]
    },
    {
      "cell_type": "markdown",
      "metadata": {
        "id": "TGAKdDQtRzmb"
      },
      "source": [
        "Some examples of string methods"
      ]
    },
    {
      "cell_type": "code",
      "execution_count": 32,
      "metadata": {
        "colab": {
          "base_uri": "https://localhost:8080/"
        },
        "id": "63sdbV7gRzmb",
        "outputId": "2012d9b4-9119-48b4-bdc4-a9683628bda4"
      },
      "outputs": [
        {
          "output_type": "execute_result",
          "data": {
            "text/plain": [
              "4"
            ]
          },
          "metadata": {},
          "execution_count": 32
        }
      ],
      "source": [
        "name = 'Sayed Nafisur Rahman Alif'\n",
        "sub = 'a'\n",
        "name.count(sub)"
      ]
    },
    {
      "cell_type": "code",
      "execution_count": 33,
      "metadata": {
        "colab": {
          "base_uri": "https://localhost:8080/"
        },
        "id": "rGRSEOhfpNZj",
        "outputId": "db689b01-88a8-452b-cb47-227449e904b6"
      },
      "outputs": [
        {
          "output_type": "stream",
          "name": "stdout",
          "text": [
            "Help on built-in function count:\n",
            "\n",
            "count(...) method of builtins.str instance\n",
            "    S.count(sub[, start[, end]]) -> int\n",
            "    \n",
            "    Return the number of non-overlapping occurrences of substring sub in\n",
            "    string S[start:end].  Optional arguments start and end are\n",
            "    interpreted as in slice notation.\n",
            "\n"
          ]
        }
      ],
      "source": [
        "help(name.count)"
      ]
    },
    {
      "cell_type": "code",
      "execution_count": 34,
      "metadata": {
        "colab": {
          "base_uri": "https://localhost:8080/"
        },
        "id": "WFTSySe3Rzmc",
        "outputId": "8019f4ca-df39-4315-f77b-f29ea80465d3"
      },
      "outputs": [
        {
          "output_type": "stream",
          "name": "stdout",
          "text": [
            "Alif\n"
          ]
        }
      ],
      "source": [
        "print(name.split()[-1])"
      ]
    },
    {
      "cell_type": "code",
      "execution_count": 35,
      "metadata": {
        "colab": {
          "base_uri": "https://localhost:8080/"
        },
        "id": "sc6pVggQRzmc",
        "outputId": "03d1f9fa-21df-40a0-c620-0bcd4cd41cbe"
      },
      "outputs": [
        {
          "output_type": "execute_result",
          "data": {
            "text/plain": [
              "False"
            ]
          },
          "metadata": {},
          "execution_count": 35
        }
      ],
      "source": [
        "name.islower()"
      ]
    },
    {
      "cell_type": "code",
      "execution_count": 36,
      "metadata": {
        "colab": {
          "base_uri": "https://localhost:8080/"
        },
        "id": "SLicn7tNRzmc",
        "outputId": "30bf8a67-f07e-4ac6-c17b-e371cf18f89b"
      },
      "outputs": [
        {
          "output_type": "execute_result",
          "data": {
            "text/plain": [
              "['I am right', 'He is fine', 'This it okay']"
            ]
          },
          "metadata": {},
          "execution_count": 36
        }
      ],
      "source": [
        "mystring = 'I am right\\nHe is fine\\nThis it okay'\n",
        "mystring.splitlines()"
      ]
    },
    {
      "cell_type": "code",
      "execution_count": 37,
      "metadata": {
        "colab": {
          "base_uri": "https://localhost:8080/"
        },
        "id": "lZa1oYLBRzmc",
        "outputId": "9b835df0-1c1e-4929-c3a7-603f4612bace"
      },
      "outputs": [
        {
          "output_type": "execute_result",
          "data": {
            "text/plain": [
              "['I', 'am', 'right\\nHe', 'is', 'fine\\nThis', 'it', 'okay']"
            ]
          },
          "metadata": {},
          "execution_count": 37
        }
      ],
      "source": [
        "mystring = 'I am right\\nHe is fine\\nThis it okay'\n",
        "mystring.split(' ')"
      ]
    },
    {
      "cell_type": "code",
      "execution_count": 38,
      "metadata": {
        "colab": {
          "base_uri": "https://localhost:8080/",
          "height": 35
        },
        "id": "ykc0YfK6Rzmc",
        "outputId": "2a0cdcd1-ff14-49e9-d92d-d0e1ed75e9a8"
      },
      "outputs": [
        {
          "output_type": "execute_result",
          "data": {
            "text/plain": [
              "'Himel ?? Liton ?? Hasan ?? Fahim'"
            ],
            "application/vnd.google.colaboratory.intrinsic+json": {
              "type": "string"
            }
          },
          "metadata": {},
          "execution_count": 38
        }
      ],
      "source": [
        "separator = ' ?? '\n",
        "mystrings = ['Himel', 'Liton', 'Hasan', 'Fahim']\n",
        "separator.join(mystrings)"
      ]
    },
    {
      "cell_type": "code",
      "execution_count": 39,
      "metadata": {
        "id": "6HTmr471Rzmc"
      },
      "outputs": [],
      "source": [
        "#help(mystring.count)"
      ]
    },
    {
      "cell_type": "code",
      "execution_count": 40,
      "metadata": {
        "colab": {
          "base_uri": "https://localhost:8080/"
        },
        "id": "wbIi_KpeRzmc",
        "outputId": "8a18173c-64ff-4be3-ee5b-29323ce9b84a"
      },
      "outputs": [
        {
          "output_type": "execute_result",
          "data": {
            "text/plain": [
              "25"
            ]
          },
          "metadata": {},
          "execution_count": 40
        }
      ],
      "source": [
        "len(name)"
      ]
    },
    {
      "cell_type": "code",
      "execution_count": 41,
      "metadata": {
        "colab": {
          "base_uri": "https://localhost:8080/"
        },
        "id": "L5ZJ-zcJ872r",
        "outputId": "2b6eda12-5d08-443c-c683-9425fd30392a"
      },
      "outputs": [
        {
          "output_type": "execute_result",
          "data": {
            "text/plain": [
              "['__add__',\n",
              " '__class__',\n",
              " '__contains__',\n",
              " '__delattr__',\n",
              " '__dir__',\n",
              " '__doc__',\n",
              " '__eq__',\n",
              " '__format__',\n",
              " '__ge__',\n",
              " '__getattribute__',\n",
              " '__getitem__',\n",
              " '__getnewargs__',\n",
              " '__gt__',\n",
              " '__hash__',\n",
              " '__init__',\n",
              " '__init_subclass__',\n",
              " '__iter__',\n",
              " '__le__',\n",
              " '__len__',\n",
              " '__lt__',\n",
              " '__mod__',\n",
              " '__mul__',\n",
              " '__ne__',\n",
              " '__new__',\n",
              " '__reduce__',\n",
              " '__reduce_ex__',\n",
              " '__repr__',\n",
              " '__rmod__',\n",
              " '__rmul__',\n",
              " '__setattr__',\n",
              " '__sizeof__',\n",
              " '__str__',\n",
              " '__subclasshook__',\n",
              " 'capitalize',\n",
              " 'casefold',\n",
              " 'center',\n",
              " 'count',\n",
              " 'encode',\n",
              " 'endswith',\n",
              " 'expandtabs',\n",
              " 'find',\n",
              " 'format',\n",
              " 'format_map',\n",
              " 'index',\n",
              " 'isalnum',\n",
              " 'isalpha',\n",
              " 'isascii',\n",
              " 'isdecimal',\n",
              " 'isdigit',\n",
              " 'isidentifier',\n",
              " 'islower',\n",
              " 'isnumeric',\n",
              " 'isprintable',\n",
              " 'isspace',\n",
              " 'istitle',\n",
              " 'isupper',\n",
              " 'join',\n",
              " 'ljust',\n",
              " 'lower',\n",
              " 'lstrip',\n",
              " 'maketrans',\n",
              " 'partition',\n",
              " 'removeprefix',\n",
              " 'removesuffix',\n",
              " 'replace',\n",
              " 'rfind',\n",
              " 'rindex',\n",
              " 'rjust',\n",
              " 'rpartition',\n",
              " 'rsplit',\n",
              " 'rstrip',\n",
              " 'split',\n",
              " 'splitlines',\n",
              " 'startswith',\n",
              " 'strip',\n",
              " 'swapcase',\n",
              " 'title',\n",
              " 'translate',\n",
              " 'upper',\n",
              " 'zfill']"
            ]
          },
          "metadata": {},
          "execution_count": 41
        }
      ],
      "source": [
        "# check which functions you can use with variable 'name'\n",
        "dir(name)"
      ]
    },
    {
      "cell_type": "code",
      "execution_count": 42,
      "metadata": {
        "colab": {
          "base_uri": "https://localhost:8080/"
        },
        "id": "LB96x9cM9Z9_",
        "outputId": "69d1568c-6417-4db7-bc68-8ed6e7f44208"
      },
      "outputs": [
        {
          "output_type": "stream",
          "name": "stdout",
          "text": [
            "Help on built-in function split:\n",
            "\n",
            "split(sep=None, maxsplit=-1) method of builtins.str instance\n",
            "    Return a list of the substrings in the string, using sep as the separator string.\n",
            "    \n",
            "      sep\n",
            "        The separator used to split the string.\n",
            "    \n",
            "        When set to None (the default value), will split on any whitespace\n",
            "        character (including \\\\n \\\\r \\\\t \\\\f and spaces) and will discard\n",
            "        empty strings from the result.\n",
            "      maxsplit\n",
            "        Maximum number of splits (starting from the left).\n",
            "        -1 (the default value) means no limit.\n",
            "    \n",
            "    Note, str.split() is mainly useful for data that has been intentionally\n",
            "    delimited.  With natural text that includes punctuation, consider using\n",
            "    the regular expression module.\n",
            "\n"
          ]
        }
      ],
      "source": [
        "help(name.split)"
      ]
    },
    {
      "cell_type": "markdown",
      "metadata": {
        "id": "tmPN3EFcRzmd"
      },
      "source": [
        "<b>Exercise 3:</b> Demonstrate some string operations. Also, show uses of some string methods."
      ]
    },
    {
      "cell_type": "code",
      "execution_count": 51,
      "metadata": {
        "id": "aHc4MuaTRzmd",
        "colab": {
          "base_uri": "https://localhost:8080/"
        },
        "outputId": "9abc860d-ce3f-48a8-fb2f-f7645519ec30"
      },
      "outputs": [
        {
          "output_type": "stream",
          "name": "stdout",
          "text": [
            "Concatenation: Hello World\n",
            "Repetition: HelloHelloHello\n",
            "Indexing (2nd character of 'Hello'): e\n",
            "Negative Indexing (last character of 'World'): d\n",
            "Slicing ('Nafisur ') from 'name': Nafisur \n",
            "Length of string 'name': 25\n",
            "Occurrences of 'a' in 'name': 4\n",
            "Is 'name' lowercase?: False\n",
            "Uppercase version of 'name': SAYED NAFISUR RAHMAN ALIF\n",
            "Splitting 'name' into words: ['Sayed', 'Nafisur', 'Rahman', 'Alif']\n",
            "Reversed string 'name': filA namhaR rusifaN deyaS\n"
          ]
        }
      ],
      "source": [
        "\n",
        "str1 = \"Hello\"\n",
        "str2 = \"World\"\n",
        "name = \"Sayed Nafisur Rahman Alif\"\n",
        "\n",
        "\n",
        "concatenation = str1 + \" \" + str2\n",
        "repetition = str1 * 3\n",
        "indexing = str1[1]\n",
        "negative_indexing = str2[-1]\n",
        "slicing = name[6:14]\n",
        "\n",
        "\n",
        "string_length = len(name)\n",
        "count_a = name.count('a')\n",
        "is_lowercase = name.islower()\n",
        "upper_case = name.upper()\n",
        "split_name = name.split()\n",
        "reversed_name = name[::-1]\n",
        "\n",
        "\n",
        "print(f\"Concatenation: {concatenation}\")\n",
        "print(f\"Repetition: {repetition}\")\n",
        "print(f\"Indexing (2nd character of '{str1}'): {indexing}\")\n",
        "print(f\"Negative Indexing (last character of '{str2}'): {negative_indexing}\")\n",
        "print(f\"Slicing ('{name[6:14]}') from 'name': {slicing}\")\n",
        "\n",
        "\n",
        "print(f\"Length of string 'name': {string_length}\")\n",
        "print(f\"Occurrences of 'a' in 'name': {count_a}\")\n",
        "print(f\"Is 'name' lowercase?: {is_lowercase}\")\n",
        "print(f\"Uppercase version of 'name': {upper_case}\")\n",
        "print(f\"Splitting 'name' into words: {split_name}\")\n",
        "print(f\"Reversed string 'name': {reversed_name}\")\n"
      ]
    },
    {
      "cell_type": "markdown",
      "metadata": {
        "id": "6gr5VKcARzmd"
      },
      "source": [
        "# List\n",
        "<p style=\"text-align: justify\">Python knows a number of compound data types, used to group together other values. The most versatile is the list, which can be written as a list of comma-separated values (items) between square brackets. Lists might contain items of different types, but usually the items all have the same type.</p>"
      ]
    },
    {
      "cell_type": "code",
      "execution_count": 49,
      "metadata": {
        "id": "1Upn_AwwRzmd",
        "outputId": "f3fbe01f-8dfb-4ee0-bd70-e619f4463037",
        "colab": {
          "base_uri": "https://localhost:8080/"
        }
      },
      "outputs": [
        {
          "output_type": "execute_result",
          "data": {
            "text/plain": [
              "[1, 4, 9, 16, 25]"
            ]
          },
          "metadata": {},
          "execution_count": 49
        }
      ],
      "source": [
        "squares = [1, 4, 9, 16, 25]\n",
        "squares"
      ]
    },
    {
      "cell_type": "code",
      "execution_count": 52,
      "metadata": {
        "colab": {
          "base_uri": "https://localhost:8080/"
        },
        "id": "MSN71x4NRzmd",
        "outputId": "9f83ccf6-71f4-4f30-c3e2-b0a7f5b1a714"
      },
      "outputs": [
        {
          "output_type": "stream",
          "name": "stdout",
          "text": [
            "[21, 'Manager', 10, ['Manager', 89000], 4.5, 'Dhaka']\n"
          ]
        }
      ],
      "source": [
        "data = [21, 'Manager', ['Manager', 89000] ,4.50, 'Dhaka']\n",
        "data.insert(2,10)\n",
        "print(data)"
      ]
    },
    {
      "cell_type": "markdown",
      "metadata": {
        "id": "EAZkybb9Rzmd"
      },
      "source": [
        "Like strings (and all other built-in sequence types), lists can be indexed and sliced:"
      ]
    },
    {
      "cell_type": "code",
      "execution_count": 53,
      "metadata": {
        "colab": {
          "base_uri": "https://localhost:8080/"
        },
        "id": "mroJxa8xRzmd",
        "outputId": "9d215938-ed5e-43b3-f90c-9a4e278ca854"
      },
      "outputs": [
        {
          "output_type": "execute_result",
          "data": {
            "text/plain": [
              "89000"
            ]
          },
          "metadata": {},
          "execution_count": 53
        }
      ],
      "source": [
        "data[-3][1]"
      ]
    },
    {
      "cell_type": "code",
      "execution_count": 54,
      "metadata": {
        "colab": {
          "base_uri": "https://localhost:8080/",
          "height": 35
        },
        "id": "9hZ2VcSURzmd",
        "outputId": "e037b71b-ebee-44e0-97c3-7a1190d1f702"
      },
      "outputs": [
        {
          "output_type": "execute_result",
          "data": {
            "text/plain": [
              "'Dhaka'"
            ],
            "application/vnd.google.colaboratory.intrinsic+json": {
              "type": "string"
            }
          },
          "metadata": {},
          "execution_count": 54
        }
      ],
      "source": [
        "data[-1]"
      ]
    },
    {
      "cell_type": "code",
      "execution_count": 56,
      "metadata": {
        "colab": {
          "base_uri": "https://localhost:8080/"
        },
        "id": "7OTvEEpmRzme",
        "outputId": "20b5eb98-ed59-4f22-e818-9373ab71c65f"
      },
      "outputs": [
        {
          "output_type": "execute_result",
          "data": {
            "text/plain": [
              "[21, 'Manager', 10]"
            ]
          },
          "metadata": {},
          "execution_count": 56
        }
      ],
      "source": [
        "data[0:3]"
      ]
    },
    {
      "cell_type": "code",
      "execution_count": 60,
      "metadata": {
        "id": "CNJjqWtzRzme",
        "outputId": "d19236a2-4fac-4743-e4ea-0f4681e4bc10",
        "colab": {
          "base_uri": "https://localhost:8080/",
          "height": 35
        }
      },
      "outputs": [
        {
          "output_type": "execute_result",
          "data": {
            "text/plain": [
              "'Manager'"
            ],
            "application/vnd.google.colaboratory.intrinsic+json": {
              "type": "string"
            }
          },
          "metadata": {},
          "execution_count": 60
        }
      ],
      "source": [
        "data[1]"
      ]
    },
    {
      "cell_type": "code",
      "execution_count": 64,
      "metadata": {
        "id": "DyOJ1nzPRzme",
        "outputId": "8b8fc94e-061e-412c-e0fc-7b54798bd6f1",
        "colab": {
          "base_uri": "https://localhost:8080/",
          "height": 35
        }
      },
      "outputs": [
        {
          "output_type": "execute_result",
          "data": {
            "text/plain": [
              "'Manager'"
            ],
            "application/vnd.google.colaboratory.intrinsic+json": {
              "type": "string"
            }
          },
          "metadata": {},
          "execution_count": 64
        }
      ],
      "source": [
        "data[3][0]"
      ]
    },
    {
      "cell_type": "code",
      "execution_count": 62,
      "metadata": {
        "id": "ODxFEFb6Rzme",
        "outputId": "ab863b50-3ff3-435a-fc39-f4a7d343b7c4",
        "colab": {
          "base_uri": "https://localhost:8080/"
        }
      },
      "outputs": [
        {
          "output_type": "execute_result",
          "data": {
            "text/plain": [
              "6"
            ]
          },
          "metadata": {},
          "execution_count": 62
        }
      ],
      "source": [
        "len(data)"
      ]
    },
    {
      "cell_type": "code",
      "execution_count": 63,
      "metadata": {
        "id": "k8zOnP5zRzme",
        "outputId": "9a2d161f-f9b6-4b47-cca7-15c56a4447bf",
        "colab": {
          "base_uri": "https://localhost:8080/"
        }
      },
      "outputs": [
        {
          "output_type": "execute_result",
          "data": {
            "text/plain": [
              "[21, 'Manager', 10, ['Manager', 89000], 4.5, 'Dhaka']"
            ]
          },
          "metadata": {},
          "execution_count": 63
        }
      ],
      "source": [
        "data"
      ]
    },
    {
      "cell_type": "markdown",
      "metadata": {
        "id": "UgYmz8egRzme"
      },
      "source": [
        "Some list methods"
      ]
    },
    {
      "cell_type": "code",
      "execution_count": 65,
      "metadata": {
        "colab": {
          "base_uri": "https://localhost:8080/"
        },
        "id": "Jv-Oj-oNRzme",
        "outputId": "53f57f31-9f70-41e6-acf6-b25d5d848dba"
      },
      "outputs": [
        {
          "output_type": "stream",
          "name": "stdout",
          "text": [
            "[21, 'Manager', ['Manager', 89000], 4.5, 'Dhaka', 100]\n"
          ]
        }
      ],
      "source": [
        "data = [21, 'Manager', ['Manager', 89000] ,4.50, 'Dhaka']\n",
        "data.append(100)\n",
        "print(data)"
      ]
    },
    {
      "cell_type": "code",
      "execution_count": 66,
      "metadata": {
        "colab": {
          "base_uri": "https://localhost:8080/"
        },
        "id": "M5aM4EXeQMIZ",
        "outputId": "79afda48-d693-4235-d746-57fd8e4ac5a1"
      },
      "outputs": [
        {
          "output_type": "stream",
          "name": "stdout",
          "text": [
            "[21, 'Manager', 100, ['Manager', 89000], 4.5, 'Dhaka']\n"
          ]
        }
      ],
      "source": [
        "data = [21, 'Manager', ['Manager', 89000] ,4.50, 'Dhaka']\n",
        "data.insert(2,100)\n",
        "print(data)"
      ]
    },
    {
      "cell_type": "code",
      "execution_count": 67,
      "metadata": {
        "colab": {
          "base_uri": "https://localhost:8080/"
        },
        "id": "CZ6yqnLARzmf",
        "outputId": "f6c292e2-62b1-4ac2-cfc9-264e6459f20c"
      },
      "outputs": [
        {
          "output_type": "stream",
          "name": "stdout",
          "text": [
            "[21, 'Manager', ['Manager', 89000], 'Dhaka']\n"
          ]
        }
      ],
      "source": [
        "data = [21, 'Manager', ['Manager', 89000] ,4.50, 'Dhaka']\n",
        "data.remove(4.5)\n",
        "print(data)"
      ]
    },
    {
      "cell_type": "code",
      "execution_count": 68,
      "metadata": {
        "colab": {
          "base_uri": "https://localhost:8080/"
        },
        "id": "tKqaqnIBRzmf",
        "outputId": "68c90bba-00c6-44be-f4fe-76e271d598aa"
      },
      "outputs": [
        {
          "output_type": "stream",
          "name": "stdout",
          "text": [
            "[21, 'Manager', ['Manager', 89000], 4.5]\n"
          ]
        }
      ],
      "source": [
        "data = [21, 'Manager', ['Manager', 89000] ,4.50, 'Dhaka']\n",
        "data.pop()\n",
        "print(data)"
      ]
    },
    {
      "cell_type": "code",
      "execution_count": 69,
      "metadata": {
        "colab": {
          "base_uri": "https://localhost:8080/"
        },
        "id": "VFtxe-7pRzmf",
        "outputId": "1d8afa68-3b7a-4f5d-d0dc-e2195835171e"
      },
      "outputs": [
        {
          "output_type": "execute_result",
          "data": {
            "text/plain": [
              "['__add__',\n",
              " '__class__',\n",
              " '__class_getitem__',\n",
              " '__contains__',\n",
              " '__delattr__',\n",
              " '__delitem__',\n",
              " '__dir__',\n",
              " '__doc__',\n",
              " '__eq__',\n",
              " '__format__',\n",
              " '__ge__',\n",
              " '__getattribute__',\n",
              " '__getitem__',\n",
              " '__gt__',\n",
              " '__hash__',\n",
              " '__iadd__',\n",
              " '__imul__',\n",
              " '__init__',\n",
              " '__init_subclass__',\n",
              " '__iter__',\n",
              " '__le__',\n",
              " '__len__',\n",
              " '__lt__',\n",
              " '__mul__',\n",
              " '__ne__',\n",
              " '__new__',\n",
              " '__reduce__',\n",
              " '__reduce_ex__',\n",
              " '__repr__',\n",
              " '__reversed__',\n",
              " '__rmul__',\n",
              " '__setattr__',\n",
              " '__setitem__',\n",
              " '__sizeof__',\n",
              " '__str__',\n",
              " '__subclasshook__',\n",
              " 'append',\n",
              " 'clear',\n",
              " 'copy',\n",
              " 'count',\n",
              " 'extend',\n",
              " 'index',\n",
              " 'insert',\n",
              " 'pop',\n",
              " 'remove',\n",
              " 'reverse',\n",
              " 'sort']"
            ]
          },
          "metadata": {},
          "execution_count": 69
        }
      ],
      "source": [
        "dir(data)"
      ]
    },
    {
      "cell_type": "code",
      "execution_count": 70,
      "metadata": {
        "id": "8EW2S40DRzmf"
      },
      "outputs": [],
      "source": [
        "#help(data.insert)"
      ]
    },
    {
      "cell_type": "markdown",
      "metadata": {
        "id": "7SDG91olRzmf"
      },
      "source": [
        "Lists also support operations like concatenation"
      ]
    },
    {
      "cell_type": "code",
      "execution_count": 71,
      "metadata": {
        "id": "yyLLhPTYRzmf",
        "outputId": "720e6ec2-223e-4966-a4b8-517519d3f223",
        "colab": {
          "base_uri": "https://localhost:8080/"
        }
      },
      "outputs": [
        {
          "output_type": "execute_result",
          "data": {
            "text/plain": [
              "[1, 4, 9, 16, 25, 21, 'Manager', ['Manager', 89000], 4.5]"
            ]
          },
          "metadata": {},
          "execution_count": 71
        }
      ],
      "source": [
        "squares + data"
      ]
    },
    {
      "cell_type": "markdown",
      "metadata": {
        "id": "s235DeNcRzmf"
      },
      "source": [
        "<b> Exercise 4:</b> Implement stack using list\n",
        "<p><b>Hints:</b> The list methods make it very easy to use a list as a stack, where the last element added is the first element retrieved (“last-in, first-out”). To add an item to the top of the stack, use append(). To retrieve an item from the top of the stack, use pop() without an explicit index</p>"
      ]
    },
    {
      "cell_type": "code",
      "execution_count": 72,
      "metadata": {
        "id": "Ch_6MsYeRzmf",
        "colab": {
          "base_uri": "https://localhost:8080/"
        },
        "outputId": "f113613b-b694-4465-dc71-651afa10512b"
      },
      "outputs": [
        {
          "output_type": "stream",
          "name": "stdout",
          "text": [
            "Stack after pushing elements: [10, 20, 30]\n",
            "Popped element: 30\n",
            "Stack after popping an element: [10, 20]\n",
            "Stack after pushing 40: [10, 20, 40]\n",
            "Popped element: 40\n",
            "Final state of the stack: [10, 20]\n"
          ]
        }
      ],
      "source": [
        "\n",
        "stack = []\n",
        "\n",
        "stack.append(10)\n",
        "stack.append(20)\n",
        "stack.append(30)\n",
        "\n",
        "\n",
        "print(\"Stack after pushing elements:\", stack)\n",
        "\n",
        "\n",
        "top_element = stack.pop()\n",
        "print(\"Popped element:\", top_element)\n",
        "\n",
        "\n",
        "print(\"Stack after popping an element:\", stack)\n",
        "\n",
        "\n",
        "stack.append(40)\n",
        "print(\"Stack after pushing 40:\", stack)\n",
        "\n",
        "\n",
        "top_element = stack.pop()\n",
        "print(\"Popped element:\", top_element)\n",
        "\n",
        "\n",
        "print(\"Final state of the stack:\", stack)\n"
      ]
    },
    {
      "cell_type": "markdown",
      "metadata": {
        "id": "8IBYDynXRzmg"
      },
      "source": [
        "<b> Exercise 5:</b> Implement queue using list\n",
        "<p><b>Hints:</b> It is also possible to use a list as a queue, where the first element added is the first element retrieved (“first-in, first-out”)</p>"
      ]
    },
    {
      "cell_type": "code",
      "execution_count": 74,
      "metadata": {
        "id": "g5EYaRjnRzmg",
        "colab": {
          "base_uri": "https://localhost:8080/"
        },
        "outputId": "83aa201a-bf13-4c86-d154-0fd3af8e0e6e"
      },
      "outputs": [
        {
          "output_type": "stream",
          "name": "stdout",
          "text": [
            "Queue after enqueueing elements: [10, 20, 30]\n",
            "Dequeued element: 10\n",
            "Queue after dequeuing an element: [20, 30]\n",
            "Queue after enqueueing 40: [20, 30, 40]\n",
            "Dequeued element: 20\n",
            "Final state of the queue: [30, 40]\n"
          ]
        }
      ],
      "source": [
        "queue = []\n",
        "queue.append(10)\n",
        "queue.append(20)\n",
        "queue.append(30)\n",
        "\n",
        "print(\"Queue after enqueueing elements:\", queue)\n",
        "\n",
        "first_element = queue.pop(0)\n",
        "print(\"Dequeued element:\", first_element)\n",
        "\n",
        "print(\"Queue after dequeuing an element:\", queue)\n",
        "\n",
        "queue.append(40)\n",
        "print(\"Queue after enqueueing 40:\", queue)\n",
        "\n",
        "first_element = queue.pop(0)\n",
        "print(\"Dequeued element:\", first_element)\n",
        "\n",
        "print(\"Final state of the queue:\", queue)"
      ]
    },
    {
      "cell_type": "markdown",
      "metadata": {
        "id": "TQ0Azt_2Rzmg"
      },
      "source": [
        "# Dictionary\n",
        "<p style=\"text-align: justify\">Dictionaries are sometimes found in other languages as “associative memories” or “associative arrays”. Unlike sequences, which are indexed by a range of numbers, dictionaries are indexed by keys, which can be any immutable type; strings and numbers can always be keys.</p>\n",
        "\n",
        "<p style=\"text-align: justify\">It is best to think of a dictionary as a set of key: value pairs, with the requirement that the keys are unique (within one dictionary). A pair of braces creates an empty dictionary: {}. Placing a comma-separated list of key:value pairs within the braces adds initial key:value pairs to the dictionary; this is also the way dictionaries are written on output.</p>"
      ]
    },
    {
      "cell_type": "code",
      "execution_count": null,
      "metadata": {
        "id": "re9nWSYYRzmg"
      },
      "outputs": [],
      "source": [
        "tel = {'jack': 4098, 'sape': 4139}"
      ]
    },
    {
      "cell_type": "code",
      "execution_count": null,
      "metadata": {
        "colab": {
          "base_uri": "https://localhost:8080/",
          "height": 35
        },
        "id": "If-U0e50Ihle",
        "outputId": "fb9b5a7f-26b7-4d92-9464-acde93a165e4"
      },
      "outputs": [
        {
          "data": {
            "application/vnd.google.colaboratory.intrinsic+json": {
              "type": "string"
            },
            "text/plain": [
              "'sape'"
            ]
          },
          "execution_count": 11,
          "metadata": {},
          "output_type": "execute_result"
        }
      ],
      "source": [
        "list(tel.keys())[1]\n"
      ]
    },
    {
      "cell_type": "code",
      "execution_count": null,
      "metadata": {
        "id": "2GNIumzqRzmg",
        "outputId": "9248630a-c678-49b5-9c3f-315d986dfdf9"
      },
      "outputs": [
        {
          "data": {
            "text/plain": [
              "{'jack': 4098, 'sape': 4139, 'guido': 4127}"
            ]
          },
          "execution_count": 97,
          "metadata": {},
          "output_type": "execute_result"
        }
      ],
      "source": [
        "tel['guido'] = 4127\n",
        "tel"
      ]
    },
    {
      "cell_type": "code",
      "execution_count": null,
      "metadata": {
        "id": "KzHZZf9ERzmg"
      },
      "outputs": [],
      "source": [
        "person = {'Age':21,'Name':['niaz','rahman'], 'Salary':56000, 'Rating':4.50}"
      ]
    },
    {
      "cell_type": "code",
      "execution_count": null,
      "metadata": {
        "id": "onihNMhoRzmg",
        "outputId": "19b4f315-e381-4ace-bb6a-3d26b7c285f2"
      },
      "outputs": [
        {
          "data": {
            "text/plain": [
              "4.5"
            ]
          },
          "execution_count": 99,
          "metadata": {},
          "output_type": "execute_result"
        }
      ],
      "source": [
        "person['Rating']"
      ]
    },
    {
      "cell_type": "code",
      "execution_count": null,
      "metadata": {
        "id": "SII5SLdbRzmg",
        "outputId": "2c1dfbf6-9baa-4933-ff4b-3a22033ddaee"
      },
      "outputs": [
        {
          "data": {
            "text/plain": [
              "4"
            ]
          },
          "execution_count": 100,
          "metadata": {},
          "output_type": "execute_result"
        }
      ],
      "source": [
        "len(person)"
      ]
    },
    {
      "cell_type": "code",
      "execution_count": null,
      "metadata": {
        "id": "x2Zc_drHRzmh",
        "outputId": "d67628b3-beb9-4495-ce9e-01654b68e116"
      },
      "outputs": [
        {
          "data": {
            "text/plain": [
              "dict_keys(['Age', 'Name', 'Salary', 'Rating'])"
            ]
          },
          "execution_count": 101,
          "metadata": {},
          "output_type": "execute_result"
        }
      ],
      "source": [
        "person.keys()"
      ]
    },
    {
      "cell_type": "code",
      "execution_count": null,
      "metadata": {
        "id": "l_yR04F0Rzmh",
        "outputId": "cee39d47-7114-4d59-feaf-e898ca82c1a8"
      },
      "outputs": [
        {
          "data": {
            "text/plain": [
              "True"
            ]
          },
          "execution_count": 102,
          "metadata": {},
          "output_type": "execute_result"
        }
      ],
      "source": [
        "#person.has_key('Name')\n",
        "'Name' in person.keys()"
      ]
    },
    {
      "cell_type": "code",
      "execution_count": null,
      "metadata": {
        "id": "Enge3DbtRzmh",
        "outputId": "da9598cd-d82e-4504-b5ad-9336ffd2e572"
      },
      "outputs": [
        {
          "data": {
            "text/plain": [
              "True"
            ]
          },
          "execution_count": 103,
          "metadata": {},
          "output_type": "execute_result"
        }
      ],
      "source": [
        "'niaz' in person['Name']"
      ]
    },
    {
      "cell_type": "code",
      "execution_count": 75,
      "metadata": {
        "id": "Lp68r5LJRzmh"
      },
      "outputs": [],
      "source": [
        "#dir(person)"
      ]
    },
    {
      "cell_type": "markdown",
      "metadata": {
        "id": "6-O7lD6gRzmh"
      },
      "source": [
        "<b> Exercise 6:</b> Define a dictionary to store the details of persons. Also, print some data from the dictionary.\n",
        " <p><b>Hint:</b> You may require nesting dictionary, lists, string inside the dictionary.</p>"
      ]
    },
    {
      "cell_type": "code",
      "execution_count": null,
      "metadata": {
        "id": "UNx0mYDNRzmh"
      },
      "outputs": [],
      "source": [
        "persons = {\n",
        "    'Person1': {\n",
        "        'Name': ['Niaz', 'Rahman'],\n",
        "        'Age': 21,\n",
        "        'Salary': 56000,\n",
        "        'Rating': 4.50,\n",
        "        'City': 'Dhaka'\n",
        "    },\n",
        "    'Person2': {\n",
        "        'Name': ['Alice', 'Smith'],\n",
        "        'Age': 30,\n",
        "        'Salary': 75000,\n",
        "        'Rating': 4.80,\n",
        "        'City': 'New York'\n",
        "    },\n",
        "    'Person3': {\n",
        "        'Name': ['John', 'Doe'],\n",
        "        'Age': 28,\n",
        "        'Salary': 67000,\n",
        "        'Rating': 4.60,\n",
        "        'City': 'San Francisco'\n",
        "    }\n",
        "}\n",
        "\n",
        "\n",
        "print(f\"Salary of Person1: {persons['Person1']['Salary']}\")\n",
        "\n",
        "\n",
        "print(f\"Age of Person3: {persons['Person3']['Age']}\")\n",
        "\n",
        "\n",
        "print(f\"Full name of Person2: {' '.join(persons['Person2']['Name'])}\")\n",
        "\n",
        "\n",
        "print(f\"Keys of Person1: {persons['Person1'].keys()}\")\n",
        "\n",
        "\n",
        "is_in_name = 'Alice' in persons['Person2']['Name']\n",
        "print(f\"Is 'Alice' in Person2's name? {is_in_name}\")"
      ]
    },
    {
      "cell_type": "markdown",
      "metadata": {
        "id": "4S_g-H7rRzmh"
      },
      "source": [
        "# Tuples and Sets\n",
        "<b>Exercise 7: (Optional)</b> Use the content from [here](https://docs.python.org/3/tutorial/datastructures.html#tuples-and-sequences) to follow some examples on tuple and set."
      ]
    },
    {
      "cell_type": "code",
      "execution_count": null,
      "metadata": {
        "id": "LpzjdV5RRzmh"
      },
      "outputs": [],
      "source": [
        "# code from here"
      ]
    }
  ],
  "metadata": {
    "colab": {
      "provenance": []
    },
    "kernelspec": {
      "display_name": "Python 3",
      "language": "python",
      "name": "python3"
    },
    "language_info": {
      "codemirror_mode": {
        "name": "ipython",
        "version": 3
      },
      "file_extension": ".py",
      "mimetype": "text/x-python",
      "name": "python",
      "nbconvert_exporter": "python",
      "pygments_lexer": "ipython3",
      "version": "3.8.5"
    }
  },
  "nbformat": 4,
  "nbformat_minor": 0
}